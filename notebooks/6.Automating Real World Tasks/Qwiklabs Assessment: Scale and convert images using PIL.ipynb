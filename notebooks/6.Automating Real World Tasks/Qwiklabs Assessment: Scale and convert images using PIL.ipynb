{
 "cells": [
  {
   "cell_type": "code",
   "execution_count": null,
   "metadata": {},
   "outputs": [],
   "source": [
    "#!/usr/bin/env python3\n",
    "from os import listdir\n",
    "from PIL import Image\n",
    "\n",
    "# set source and target dirs:\n",
    "# NOTE: lab calls for new images to be stored to system root\n",
    "src_dir = \"images/\"\n",
    "new_dir = \"/opt/icons/\"\n",
    "\n",
    "# set reprocess vars:\n",
    "rx_90dg = -90\n",
    "rx_size = (128, 128)\n",
    "# NOTE: the required output format results in black images because the source\n",
    "# TIFF files have transparent backaground which original JPG format doesn't\n",
    "# support. PNG would be a more suitable option, but the lab calls for JPEG.\n",
    "rx_frmt = \"JPEG\"\n",
    "\n",
    "# gather list of image files:\n",
    "img_files = [f for f in listdir(src_dir) if f.startswith(\"ic_\")]\n",
    "\n",
    "# reprocess images:\n",
    "for file in img_files:\n",
    "    src_img = Image.open(src_dir + file)\n",
    "\n",
    "    # rotate & resize image:\n",
    "    new_img = src_img.rotate(rx_90dg).resize(rx_size)\n",
    "\n",
    "    # NOTE: we need to convert to RGB here to avoid error:\n",
    "    new_img = new_img.convert(\"RGB\")\n",
    "\n",
    "    # save new output file:\n",
    "    new_img.save(new_dir + file, rx_frmt)"
   ]
  }
 ],
 "metadata": {
  "kernelspec": {
   "display_name": "Python 3.10.4 64-bit",
   "language": "python",
   "name": "python3"
  },
  "language_info": {
   "name": "python",
   "version": "3.10.4"
  },
  "orig_nbformat": 4,
  "vscode": {
   "interpreter": {
    "hash": "916dbcbb3f70747c44a77c7bcd40155683ae19c65e1c03b4aa3499c5328201f1"
   }
  }
 },
 "nbformat": 4,
 "nbformat_minor": 2
}
