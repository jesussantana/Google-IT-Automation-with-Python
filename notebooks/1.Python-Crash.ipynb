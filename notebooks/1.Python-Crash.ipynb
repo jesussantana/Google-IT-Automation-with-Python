{
 "cells": [
  {
   "cell_type": "markdown",
   "id": "9cd99be2",
   "metadata": {},
   "source": [
    "## Python Crash\n",
    "***"
   ]
  },
  {
   "cell_type": "code",
   "execution_count": null,
   "id": "b1b743bc",
   "metadata": {},
   "outputs": [],
   "source": []
  },
  {
   "cell_type": "markdown",
   "id": "4f743935",
   "metadata": {},
   "source": [
    "## Expressions & Variables\n",
    "***"
   ]
  },
  {
   "cell_type": "code",
   "execution_count": 51,
   "id": "08495c6d",
   "metadata": {},
   "outputs": [
    {
     "name": "stdout",
     "output_type": "stream",
     "text": [
      "7.5\n"
     ]
    }
   ],
   "source": [
    "base = 5\n",
    "height = 3\n",
    "area = (base*height)/2\n",
    "\n",
    "print(area)"
   ]
  },
  {
   "cell_type": "code",
   "execution_count": null,
   "id": "0cf39770",
   "metadata": {},
   "outputs": [],
   "source": []
  },
  {
   "cell_type": "markdown",
   "id": "8c247cec",
   "metadata": {},
   "source": [
    "### Expressions, Numbers, and Type Conversions\n",
    "***"
   ]
  },
  {
   "cell_type": "code",
   "execution_count": null,
   "id": "36b73afb",
   "metadata": {},
   "outputs": [],
   "source": []
  },
  {
   "cell_type": "code",
   "execution_count": 52,
   "id": "88c6b078",
   "metadata": {},
   "outputs": [
    {
     "name": "stdout",
     "output_type": "stream",
     "text": [
      "The average size is: 20839.2\n"
     ]
    }
   ],
   "source": [
    "total = 2048 + 4357 + 97658 + 125 + 8\n",
    "files = 5\n",
    "average = total / files\n",
    "print(\"The average size is: \" + str(average))"
   ]
  },
  {
   "cell_type": "code",
   "execution_count": null,
   "id": "bbaa8208",
   "metadata": {},
   "outputs": [],
   "source": []
  },
  {
   "cell_type": "markdown",
   "id": "da718bd4",
   "metadata": {},
   "source": [
    "### Practice Quiz: Expressions and Variables\n",
    "***"
   ]
  },
  {
   "cell_type": "code",
   "execution_count": null,
   "id": "4c223fa2",
   "metadata": {},
   "outputs": [],
   "source": []
  },
  {
   "cell_type": "markdown",
   "id": "f7734d2a",
   "metadata": {},
   "source": [
    "In this scenario, two friends are eating dinner at a restaurant. The bill comes in the amount of 47.28 dollars. The friends decide to split the bill evenly between them, after adding 15% tip for the service. Calculate the tip, the total amount to pay, and each friend's share, then output a message saying \"Each person needs to pay: \" followed by the resulting number."
   ]
  },
  {
   "cell_type": "code",
   "execution_count": 53,
   "id": "74b78a29",
   "metadata": {},
   "outputs": [
    {
     "name": "stdout",
     "output_type": "stream",
     "text": [
      "Each person needs to pay: 27.186\n"
     ]
    }
   ],
   "source": [
    "bill = 47.28\n",
    "tip = bill * 15/100\n",
    "total = bill + tip\n",
    "share = total/2 \n",
    "print(\"Each person needs to pay: \" + str(share))"
   ]
  },
  {
   "cell_type": "markdown",
   "id": "caf2a0d2",
   "metadata": {},
   "source": [
    "Pregunta 2\n",
    "This code is supposed to take two numbers, divide one by another so that the result is equal to 1, and display the result on the screen. Unfortunately, there is an error in the code. Find the error and fix it, so that the output is correct."
   ]
  },
  {
   "cell_type": "code",
   "execution_count": 54,
   "id": "43cad2d8",
   "metadata": {},
   "outputs": [
    {
     "name": "stdout",
     "output_type": "stream",
     "text": [
      "1\n"
     ]
    }
   ],
   "source": [
    "numerator = 10\n",
    "denominator = 10\n",
    "result = numerator / denominator\n",
    "print(int(result))"
   ]
  },
  {
   "cell_type": "markdown",
   "id": "1202983e",
   "metadata": {},
   "source": [
    "Combine the variables to display the sentence \"How do you like Python so far?\" "
   ]
  },
  {
   "cell_type": "code",
   "execution_count": 55,
   "id": "85de5cb3",
   "metadata": {},
   "outputs": [
    {
     "name": "stdout",
     "output_type": "stream",
     "text": [
      "How do you like Python so far?\n"
     ]
    }
   ],
   "source": [
    "word1 = \"How\"\n",
    "word2 = \"do\"\n",
    "word3 = \"you\"\n",
    "word4 = \"like\"\n",
    "word5 = \"Python\"\n",
    "word6 = \"so\"\n",
    "word7 = \"far?\"\n",
    "\n",
    "print(word1, word2, word3, word4, word5, word6, word7)"
   ]
  },
  {
   "cell_type": "markdown",
   "id": "747e0a06",
   "metadata": {},
   "source": [
    "This code is supposed to display \"2 + 2 = 4\" on the screen, but there is an error. Find the error in the code and fix it, so that the output is correct."
   ]
  },
  {
   "cell_type": "code",
   "execution_count": 56,
   "id": "9fb000dd",
   "metadata": {},
   "outputs": [
    {
     "name": "stdout",
     "output_type": "stream",
     "text": [
      "2 + 2 = 4\n"
     ]
    }
   ],
   "source": [
    "print(\"2 + 2 = \"+ str(2 + 2))"
   ]
  },
  {
   "cell_type": "code",
   "execution_count": null,
   "id": "7f33e665",
   "metadata": {},
   "outputs": [],
   "source": []
  },
  {
   "cell_type": "markdown",
   "id": "9de0ba6b",
   "metadata": {},
   "source": [
    "## Defining Functions\n",
    "***"
   ]
  },
  {
   "cell_type": "code",
   "execution_count": null,
   "id": "3891db4e",
   "metadata": {},
   "outputs": [],
   "source": []
  },
  {
   "cell_type": "markdown",
   "id": "106bc77a",
   "metadata": {},
   "source": [
    "Flesh out the body of the print_seconds function so that it prints the total amount of seconds given the hours, minutes, and seconds function parameters. Remember that there are 3600 seconds in an hour and 60 seconds in a minute."
   ]
  },
  {
   "cell_type": "code",
   "execution_count": 57,
   "id": "532b5200",
   "metadata": {},
   "outputs": [
    {
     "name": "stdout",
     "output_type": "stream",
     "text": [
      "3723\n"
     ]
    }
   ],
   "source": [
    "def print_seconds(hours, minutes, seconds):\n",
    "    print(int((hours*3600) + (minutes*60) + seconds))\n",
    "\n",
    "print_seconds(1,2,3)"
   ]
  },
  {
   "cell_type": "markdown",
   "id": "880d235d",
   "metadata": {},
   "source": [
    "Use the get_seconds function to work out the amount of seconds in 2 hours and 30 minutes, then add this number to the amount of seconds in 45 minutes and 15 seconds. Then print the result."
   ]
  },
  {
   "cell_type": "code",
   "execution_count": 58,
   "id": "3a3b33ca",
   "metadata": {},
   "outputs": [
    {
     "name": "stdout",
     "output_type": "stream",
     "text": [
      "11715\n"
     ]
    }
   ],
   "source": [
    "def get_seconds(hours, minutes, seconds):\n",
    "  return 3600*hours + 60*minutes + seconds\n",
    "\n",
    "amount_a = get_seconds(2,30,0)\n",
    "amount_b = get_seconds(0,45,15)\n",
    "result = amount_a + amount_b\n",
    "print(result)"
   ]
  },
  {
   "cell_type": "markdown",
   "id": "359fa16e",
   "metadata": {},
   "source": [
    "In this code, identify the repeated pattern and replace it with a function called month_days, that receives the name of the month and the number of days in that month as parameters. Adapt the rest of the code so that the result is the same. Confirm your results by making a function call with the correct parameters for both months listed."
   ]
  },
  {
   "cell_type": "code",
   "execution_count": 59,
   "id": "52689f23",
   "metadata": {},
   "outputs": [
    {
     "name": "stdout",
     "output_type": "stream",
     "text": [
      "June has 30 days.\n",
      "July has 31 days.\n"
     ]
    }
   ],
   "source": [
    "# REPLACE THIS STARTER CODE WITH YOUR FUNCTION\n",
    "\"\"\"\n",
    "june_days = 30\n",
    "print(\"June has \" + str(june_days) + \" days.\")\n",
    "july_days = 31\n",
    "print(\"July has \" + str(july_days) + \" days.\")\n",
    "\"\"\"\n",
    "\n",
    "def month_days(month, days):\n",
    "    print(month + \" has \" + str(days) + \" days.\")\n",
    "\n",
    "month_days(\"June\", 30)\n",
    "month_days(\"July\", 31)\n"
   ]
  },
  {
   "cell_type": "markdown",
   "id": "d21dc555",
   "metadata": {},
   "source": [
    "This function to calculate the area of a rectangle is not very readable. Can you refactor it, and then call the function to calculate the area with base of 5 and height of 6?\n",
    "Tip: a function that calculates the area of a rectangle should probably be called rectangle_area, and if it's receiving base and height, that's what the parameters should be called."
   ]
  },
  {
   "cell_type": "code",
   "execution_count": 60,
   "id": "8f369685",
   "metadata": {},
   "outputs": [
    {
     "name": "stdout",
     "output_type": "stream",
     "text": [
      "The area is 30\n"
     ]
    }
   ],
   "source": [
    "\"\"\"\n",
    "def f1(x, y):\n",
    "\tz = x*y  # the area is base*height\n",
    "\tprint(\"The area is \" + str(z))\n",
    "\"\"\"\n",
    "\n",
    "def rectangle_area(base, height):\n",
    "\tresult = base*height  # the area is base*height\n",
    "\tprint(\"The area is \" + str(result))\n",
    "\n",
    "rectangle_area(5,6)"
   ]
  },
  {
   "cell_type": "code",
   "execution_count": null,
   "id": "e12ce7d2",
   "metadata": {},
   "outputs": [],
   "source": []
  },
  {
   "cell_type": "markdown",
   "id": "7f277300",
   "metadata": {},
   "source": [
    "### Practice Quiz: Functions\n",
    "***"
   ]
  },
  {
   "cell_type": "code",
   "execution_count": null,
   "id": "02581e24",
   "metadata": {},
   "outputs": [],
   "source": []
  },
  {
   "cell_type": "markdown",
   "id": "d32dcb00",
   "metadata": {},
   "source": [
    "This function converts miles to kilometers (km).\n",
    "\n",
    "Complete the function to return the result of the conversion\n",
    "\n",
    "Call the function to convert the trip distance from miles to kilometers\n",
    "\n",
    "Fill in the blank to print the result of the conversion\n",
    "\n",
    "Calculate the round-trip in kilometers by doubling the result, and fill in the blank to print the result"
   ]
  },
  {
   "cell_type": "code",
   "execution_count": 61,
   "id": "469e6cb7",
   "metadata": {},
   "outputs": [
    {
     "name": "stdout",
     "output_type": "stream",
     "text": [
      "The distance in kilometers is 88.0\n",
      "The round-trip in kilometers is 176.0\n"
     ]
    }
   ],
   "source": [
    "# 1) Complete the function to return the result of the conversion\n",
    "def convert_distance(miles):\n",
    "\tkm = miles * 1.6  # approximately 1.6 km in 1 mile\n",
    "\treturn km\n",
    "\n",
    "my_trip_miles = 55\n",
    "\n",
    "# 2) Convert my_trip_miles to kilometers by calling the function above\n",
    "my_trip_km = convert_distance(my_trip_miles)\n",
    "\n",
    "# 3) Fill in the blank to print the result of the conversion\n",
    "print(\"The distance in kilometers is \" + str(my_trip_km))\n",
    "\n",
    "# 4) Calculate the round-trip in kilometers by doubling the result,\n",
    "#    and fill in the blank to print the result\n",
    "print(\"The round-trip in kilometers is \" + str(my_trip_km*2))"
   ]
  },
  {
   "cell_type": "markdown",
   "id": "4b85b40d",
   "metadata": {},
   "source": [
    "This function compares two numbers and returns them in increasing order.\n",
    "\n",
    "Fill in the blanks, so the print statement displays the result of the function call in order.\n",
    "\n",
    "Hint: if a function returns multiple values, don't forget to store these values in multiple variables"
   ]
  },
  {
   "cell_type": "code",
   "execution_count": 62,
   "id": "0ebbbcf8",
   "metadata": {},
   "outputs": [
    {
     "name": "stdout",
     "output_type": "stream",
     "text": [
      "99 100\n"
     ]
    }
   ],
   "source": [
    "# This function compares two numbers and returns them\n",
    "# in increasing order.\n",
    "def order_numbers(number1, number2):\n",
    "\tif number2 > number1:\n",
    "\t\treturn number1, number2\n",
    "\telse:\n",
    "\t\treturn number2, number1\n",
    "\n",
    "# 1) Fill in the blanks so the print statement displays the result\n",
    "#    of the function call\n",
    "smaller, bigger = order_numbers(100, 99)\n",
    "print(smaller, bigger)"
   ]
  },
  {
   "cell_type": "markdown",
   "id": "77f7503f",
   "metadata": {},
   "source": [
    "Let's revisit our lucky_number function. We want to change it, so that instead of printing the message, it returns the message. This way, the calling line can print the message, or do something else with it if needed. Fill in the blanks to complete the code to make it work."
   ]
  },
  {
   "cell_type": "code",
   "execution_count": 63,
   "id": "487dc27a",
   "metadata": {},
   "outputs": [
    {
     "name": "stdout",
     "output_type": "stream",
     "text": [
      "Hello Kay. Your lucky number is 27\n",
      "Hello Cameron. Your lucky number is 63\n"
     ]
    }
   ],
   "source": [
    "def lucky_number(name):\n",
    "  number = len(name) * 9\n",
    "  message = \"Hello \" + name + \". Your lucky number is \" + str(number)\n",
    "  return message\n",
    "\t    \n",
    "print(lucky_number(\"Kay\"))\n",
    "print(lucky_number(\"Cameron\"))"
   ]
  },
  {
   "cell_type": "code",
   "execution_count": null,
   "id": "caad84f9",
   "metadata": {},
   "outputs": [],
   "source": []
  },
  {
   "cell_type": "markdown",
   "id": "b0ca0236",
   "metadata": {},
   "source": [
    "## Conditionals\n",
    "***"
   ]
  },
  {
   "cell_type": "code",
   "execution_count": null,
   "id": "a0120ba8",
   "metadata": {},
   "outputs": [],
   "source": []
  },
  {
   "cell_type": "markdown",
   "id": "4e427f23",
   "metadata": {},
   "source": [
    "The is_positive function should return True if the number received is positive, otherwise it returns None. Can you fill in the gaps to make that happen?"
   ]
  },
  {
   "cell_type": "code",
   "execution_count": 64,
   "id": "34a2a8af",
   "metadata": {},
   "outputs": [],
   "source": [
    "def is_positive(number):\n",
    "  if number > 0:\n",
    "    return True"
   ]
  },
  {
   "cell_type": "code",
   "execution_count": 65,
   "id": "165e6e91",
   "metadata": {},
   "outputs": [],
   "source": [
    "is_positive(-5)"
   ]
  },
  {
   "cell_type": "code",
   "execution_count": 66,
   "id": "a9205bf0",
   "metadata": {},
   "outputs": [],
   "source": [
    "is_positive(0)"
   ]
  },
  {
   "cell_type": "code",
   "execution_count": 67,
   "id": "9f76701b",
   "metadata": {},
   "outputs": [
    {
     "data": {
      "text/plain": [
       "True"
      ]
     },
     "execution_count": 67,
     "metadata": {},
     "output_type": "execute_result"
    }
   ],
   "source": [
    "is_positive(13)"
   ]
  },
  {
   "cell_type": "markdown",
   "id": "2f5c20bf",
   "metadata": {},
   "source": [
    "The is_positive function should return True if the number received is positive and False if it isn't. Can you fill in the gaps to make that happen?"
   ]
  },
  {
   "cell_type": "code",
   "execution_count": 68,
   "id": "e9b43fcb",
   "metadata": {},
   "outputs": [],
   "source": [
    "def is_positive(number):\n",
    "  if number > 0:\n",
    "    return True\n",
    "  else:\n",
    "    return False"
   ]
  },
  {
   "cell_type": "code",
   "execution_count": 69,
   "id": "cf9be6f2",
   "metadata": {},
   "outputs": [
    {
     "data": {
      "text/plain": [
       "False"
      ]
     },
     "execution_count": 69,
     "metadata": {},
     "output_type": "execute_result"
    }
   ],
   "source": [
    "is_positive(-5)"
   ]
  },
  {
   "cell_type": "code",
   "execution_count": 70,
   "id": "00578576",
   "metadata": {},
   "outputs": [
    {
     "data": {
      "text/plain": [
       "False"
      ]
     },
     "execution_count": 70,
     "metadata": {},
     "output_type": "execute_result"
    }
   ],
   "source": [
    "is_positive(0)"
   ]
  },
  {
   "cell_type": "code",
   "execution_count": 71,
   "id": "a193fc09",
   "metadata": {},
   "outputs": [
    {
     "data": {
      "text/plain": [
       "True"
      ]
     },
     "execution_count": 71,
     "metadata": {},
     "output_type": "execute_result"
    }
   ],
   "source": [
    "is_positive(13)"
   ]
  },
  {
   "cell_type": "markdown",
   "id": "9da0b6a8",
   "metadata": {},
   "source": [
    "The number_group function should return \"Positive\" if the number received is positive, \"Negative\" if it's negative, and \"Zero\" if it's 0. Can you fill in the gaps to make that happen?"
   ]
  },
  {
   "cell_type": "code",
   "execution_count": 72,
   "id": "707a0abd",
   "metadata": {},
   "outputs": [
    {
     "name": "stdout",
     "output_type": "stream",
     "text": [
      "Positive\n",
      "Zero\n",
      "Negative\n"
     ]
    }
   ],
   "source": [
    "def number_group(number):\n",
    "  if number > 0:\n",
    "    return \"Positive\"\n",
    "  elif number < 0:\n",
    "    return \"Negative\" \n",
    "  else:\n",
    "    return \"Zero\"\n",
    "\n",
    "print(number_group(10)) #Should be Positive\n",
    "print(number_group(0)) #Should be Zero\n",
    "print(number_group(-5)) #Should be Negative"
   ]
  },
  {
   "cell_type": "code",
   "execution_count": null,
   "id": "90e10427",
   "metadata": {},
   "outputs": [],
   "source": []
  },
  {
   "cell_type": "markdown",
   "id": "cb4969be",
   "metadata": {},
   "source": [
    "### Practice Quiz: Conditionals\n",
    "***"
   ]
  },
  {
   "cell_type": "code",
   "execution_count": null,
   "id": "b6bbc570",
   "metadata": {},
   "outputs": [],
   "source": []
  },
  {
   "cell_type": "markdown",
   "id": "fd18d2c7",
   "metadata": {},
   "source": [
    "Complete the script by filling in the missing parts. The function receives a name, then returns a greeting based on whether or not that name is \"Taylor\"."
   ]
  },
  {
   "cell_type": "code",
   "execution_count": 73,
   "id": "4612424f",
   "metadata": {},
   "outputs": [
    {
     "name": "stdout",
     "output_type": "stream",
     "text": [
      "Welcome back Taylor!\n",
      "Hello there, John\n"
     ]
    }
   ],
   "source": [
    "def greeting(name):\n",
    "  if name == \"Taylor\":\n",
    "    return \"Welcome back Taylor!\"\n",
    "  else:\n",
    "    return \"Hello there, \" + name\n",
    "\n",
    "print(greeting(\"Taylor\"))\n",
    "print(greeting(\"John\"))"
   ]
  },
  {
   "cell_type": "markdown",
   "id": "ca781c1f",
   "metadata": {},
   "source": [
    "What’s the output of this code if number equals 10?"
   ]
  },
  {
   "cell_type": "code",
   "execution_count": 74,
   "id": "eb736530",
   "metadata": {},
   "outputs": [
    {
     "name": "stdout",
     "output_type": "stream",
     "text": [
      "2\n"
     ]
    }
   ],
   "source": [
    "number = 10\n",
    "\n",
    "if number > 11: \n",
    "  print(0)\n",
    "elif number != 10:\n",
    "  print(1)\n",
    "elif number >= 20 or number < 12:\n",
    "  print(2)\n",
    "else:\n",
    "  print(3)"
   ]
  },
  {
   "cell_type": "markdown",
   "id": "fedfb204",
   "metadata": {},
   "source": [
    "Is \"A dog\" smaller or larger than \"A mouse\"? Is 9999+8888 smaller or larger than 100*100? Replace the plus sign in the following code to let Python check it for you and then answer. "
   ]
  },
  {
   "cell_type": "code",
   "execution_count": 75,
   "id": "4a628e20",
   "metadata": {},
   "outputs": [
    {
     "name": "stdout",
     "output_type": "stream",
     "text": [
      "False\n",
      "True\n"
     ]
    }
   ],
   "source": [
    "print(\"A dog\" > \"A mouse\")\n",
    "print(9999+8888 > 100*100)"
   ]
  },
  {
   "cell_type": "markdown",
   "id": "6187ee74",
   "metadata": {},
   "source": [
    "Si un sistema de archivos tiene un tamaño de bloque de 4096 bytes, esto significa que un archivo compuesto por un solo byte seguirá utilizando 4096 bytes de almacenamiento. Un archivo compuesto por 4097 bytes utilizará 4096*2=8192 bytes de almacenamiento. Sabiendo esto, ¿puede llenar los espacios en blanco en la siguiente función de calcular_almacenamiento, que calcula el número total de bytes necesarios para almacenar un archivo de un tamaño determinado?"
   ]
  },
  {
   "cell_type": "code",
   "execution_count": 76,
   "id": "821b56a9",
   "metadata": {},
   "outputs": [],
   "source": [
    "def calculate_storage(filesize):\n",
    "    block_size = 4096\n",
    "    # Use floor division to calculate how many blocks are fully occupied\n",
    "    full_blocks = int(filesize/block_size)\n",
    "    # Use the modulo operator to check whether there's any remainder\n",
    "    partial_block_remainder = filesize%block_size\n",
    "    # Depending on whether there's a remainder or not, return\n",
    "    # the total number of bytes required to allocate enough blocks\n",
    "    # to store your data.\n",
    "    if partial_block_remainder > 0:\n",
    "        return (full_blocks+1)*block_size\n",
    "    return full_blocks*block_size"
   ]
  },
  {
   "cell_type": "code",
   "execution_count": 77,
   "id": "46203ac3",
   "metadata": {},
   "outputs": [
    {
     "name": "stdout",
     "output_type": "stream",
     "text": [
      "4096\n",
      "4096\n",
      "8192\n",
      "8192\n"
     ]
    }
   ],
   "source": [
    "print(calculate_storage(1))    # Should be 4096\n",
    "print(calculate_storage(4096)) # Should be 4096\n",
    "print(calculate_storage(4097)) # Should be 8192\n",
    "print(calculate_storage(6000)) # Should be 8192"
   ]
  },
  {
   "cell_type": "code",
   "execution_count": 78,
   "id": "706db690",
   "metadata": {},
   "outputs": [
    {
     "data": {
      "text/plain": [
       "True"
      ]
     },
     "execution_count": 78,
     "metadata": {},
     "output_type": "execute_result"
    }
   ],
   "source": [
    "(2**2) == 4"
   ]
  },
  {
   "cell_type": "code",
   "execution_count": null,
   "id": "0c74cf8f",
   "metadata": {},
   "outputs": [],
   "source": []
  },
  {
   "cell_type": "markdown",
   "id": "2a3886c0",
   "metadata": {},
   "source": [
    "### Module 2 Graded Assessment\n",
    "***\n"
   ]
  },
  {
   "cell_type": "code",
   "execution_count": null,
   "id": "89a213a3",
   "metadata": {},
   "outputs": [],
   "source": []
  },
  {
   "cell_type": "markdown",
   "id": "a92758f2",
   "metadata": {},
   "source": [
    "Complete the function by filling in the missing parts. The color_translator function receives the name of a color, then prints its hexadecimal value. Currently, it only supports the three additive primary colors (red, green, blue), so it returns \"unknown\" for all other colors."
   ]
  },
  {
   "cell_type": "code",
   "execution_count": 79,
   "id": "83936047",
   "metadata": {},
   "outputs": [
    {
     "name": "stdout",
     "output_type": "stream",
     "text": [
      "#0000ff\n",
      "unknown\n",
      "#ff0000\n",
      "unknown\n",
      "#00ff00\n",
      "unknown\n"
     ]
    }
   ],
   "source": [
    "def color_translator(color):\n",
    "\tif color == \"red\":\n",
    "\t\thex_color = \"#ff0000\"\n",
    "\telif color == \"green\":\n",
    "\t\thex_color = \"#00ff00\"\n",
    "\telif color == \"blue\":\n",
    "\t\thex_color = \"#0000ff\"\n",
    "\telse:\n",
    "\t\thex_color = \"unknown\"\n",
    "\treturn hex_color\n",
    "\n",
    "print(color_translator(\"blue\")) # Should be #0000ff\n",
    "print(color_translator(\"yellow\")) # Should be unknown\n",
    "print(color_translator(\"red\")) # Should be #ff0000\n",
    "print(color_translator(\"black\")) # Should be unknown\n",
    "print(color_translator(\"green\")) # Should be #00ff00\n",
    "print(color_translator(\"\")) # Should be unknown"
   ]
  },
  {
   "cell_type": "markdown",
   "id": "2ee30dcc",
   "metadata": {},
   "source": [
    "What's the value of this Python expression: \"big\" > \"small\""
   ]
  },
  {
   "cell_type": "code",
   "execution_count": 80,
   "id": "82d1f3a4",
   "metadata": {},
   "outputs": [
    {
     "data": {
      "text/plain": [
       "False"
      ]
     },
     "execution_count": 80,
     "metadata": {},
     "output_type": "execute_result"
    }
   ],
   "source": [
    "\"big\" > \"small\""
   ]
  },
  {
   "cell_type": "markdown",
   "id": "ede7b917",
   "metadata": {},
   "source": [
    "Pregunta 4\n",
    "Students in a class receive their grades as Pass/Fail. Scores of 60 or more (out of 100) mean that the grade is \"Pass\". For lower scores, the grade is \"Fail\". In addition, scores above 95 (not included) are graded as \"Top Score\". Fill in this function so that it returns the proper grade."
   ]
  },
  {
   "cell_type": "code",
   "execution_count": 81,
   "id": "6c2de926",
   "metadata": {},
   "outputs": [
    {
     "name": "stdout",
     "output_type": "stream",
     "text": [
      "Pass\n",
      "Fail\n",
      "Pass\n",
      "Pass\n",
      "Top Score\n",
      "Fail\n"
     ]
    }
   ],
   "source": [
    "def exam_grade(score):\n",
    "\tif score > 95:\n",
    "\t\tgrade = \"Top Score\"\n",
    "\telif score >= 60:\n",
    "\t\tgrade = \"Pass\"\n",
    "\telse:\n",
    "\t\tgrade = \"Fail\"\n",
    "\treturn grade\n",
    "\n",
    "print(exam_grade(65)) # Should be Pass\n",
    "print(exam_grade(55)) # Should be Fail\n",
    "print(exam_grade(60)) # Should be Pass\n",
    "print(exam_grade(95)) # Should be Pass\n",
    "print(exam_grade(100)) # Should be Top Score\n",
    "print(exam_grade(0)) # Should be Fail"
   ]
  },
  {
   "cell_type": "markdown",
   "id": "91fac63f",
   "metadata": {},
   "source": [
    "What's the value of this Python expression: 11 % 5?"
   ]
  },
  {
   "cell_type": "code",
   "execution_count": 82,
   "id": "c863059b",
   "metadata": {},
   "outputs": [
    {
     "data": {
      "text/plain": [
       "1"
      ]
     },
     "execution_count": 82,
     "metadata": {},
     "output_type": "execute_result"
    }
   ],
   "source": [
    "11 % 5"
   ]
  },
  {
   "cell_type": "markdown",
   "id": "173230c3",
   "metadata": {},
   "source": [
    "Complete the body of the format_name function. This function receives the first_name and last_name parameters and then returns a properly formatted string.\n",
    "\n",
    "Specifically:\n",
    "\n",
    "If both the last_name and the first_name parameters are supplied, the function should return like so:\n",
    "\n",
    "`print(format_name(\"Ella\", \"Fitzgerald\"))`\n",
    "\n",
    "Output:\n",
    "Name: Fitzgerald, Ella\n",
    "\n",
    "If only one name parameter is supplied (either the first name or the last name) , the function should return like so:\n",
    "\n",
    "`print(format_name(\"Adele\", \"\"))`\n",
    "\n",
    "Output:\n",
    "Name: Adele\n",
    "\n",
    "or\n",
    "\n",
    "`print(format_name(\"\", \"Einstein\"))`\n",
    "\n",
    "Output:\n",
    "Name: Einstein\n",
    "\n",
    "Finally, if both names are blank, the function should return the empty string:\n",
    "\n",
    "`print(format_name(\"\", \"\"))`\n",
    "\n",
    "Output:\n",
    "\"\""
   ]
  },
  {
   "cell_type": "markdown",
   "id": "ec1bfc31",
   "metadata": {},
   "source": [
    "\n",
    "\n"
   ]
  },
  {
   "cell_type": "code",
   "execution_count": 83,
   "id": "4b8fdcac",
   "metadata": {},
   "outputs": [
    {
     "name": "stdout",
     "output_type": "stream",
     "text": [
      "Name: Hemingway, Ernest\n",
      "Name: Madonna\n",
      "Name: Voltaire\n",
      "\n"
     ]
    }
   ],
   "source": [
    "def format_name(first_name, last_name):\n",
    "\t# code goes here\n",
    "\tstring = \"Name: \"\n",
    "\tif first_name != \"\" and last_name != \"\":\n",
    "\t  string += last_name + \", \" + first_name\n",
    "\telif first_name != \"\" and last_name == \"\":\n",
    "\t  string += first_name\n",
    "\telif first_name == \"\" and last_name != \"\":\n",
    "\t  string += last_name\n",
    "\telse:\n",
    "\t  string = \"\"\n",
    "\treturn string  \n",
    "\n",
    "print(format_name(\"Ernest\", \"Hemingway\"))\n",
    "# Should return the string \"Name: Hemingway, Ernest\"\n",
    "\n",
    "print(format_name(\"\", \"Madonna\"))\n",
    "# Should return the string \"Name: Madonna\"\n",
    "\n",
    "print(format_name(\"Voltaire\", \"\"))\n",
    "# Should return the string \"Name: Voltaire\"\n",
    "\n",
    "print(format_name(\"\", \"\"))\n",
    "# Should return an empty string"
   ]
  },
  {
   "cell_type": "markdown",
   "id": "1d3df41b",
   "metadata": {},
   "source": [
    "The longest_word function is used to compare 3 words. It should return the word with the most number of characters (and the first in the list when they have the same length). Fill in the blank to make this happen."
   ]
  },
  {
   "cell_type": "code",
   "execution_count": 84,
   "id": "f86c4186",
   "metadata": {},
   "outputs": [
    {
     "name": "stdout",
     "output_type": "stream",
     "text": [
      "chair\n",
      "beyond\n",
      "notebook\n"
     ]
    }
   ],
   "source": [
    "def longest_word(word1, word2, word3):\n",
    "\tif len(word1) >= len(word2) and len(word1) >= len(word3):\n",
    "\t\tword = word1\n",
    "\telif len(word2) >= len(word1) and len(word2) >= len(word3):\n",
    "\t\tword = word2\n",
    "\telse:\n",
    "\t\tword = word3\n",
    "\treturn(word)\n",
    "\n",
    "print(longest_word(\"chair\", \"couch\", \"table\"))\n",
    "print(longest_word(\"bed\", \"bath\", \"beyond\"))\n",
    "print(longest_word(\"laptop\", \"notebook\", \"desktop\"))"
   ]
  },
  {
   "cell_type": "markdown",
   "id": "94a4b522",
   "metadata": {},
   "source": [
    "What’s the output of this code?"
   ]
  },
  {
   "cell_type": "code",
   "execution_count": 85,
   "id": "e96e337d",
   "metadata": {},
   "outputs": [
    {
     "name": "stdout",
     "output_type": "stream",
     "text": [
      "10\n"
     ]
    }
   ],
   "source": [
    "def sum(x, y):\n",
    "\t\treturn(x+y)\n",
    "print(sum(sum(1,2), sum(3,4)))"
   ]
  },
  {
   "cell_type": "markdown",
   "id": "23506179",
   "metadata": {},
   "source": [
    "What's the value of this Python expression?"
   ]
  },
  {
   "cell_type": "code",
   "execution_count": 86,
   "id": "bc64ddee",
   "metadata": {},
   "outputs": [
    {
     "data": {
      "text/plain": [
       "True"
      ]
     },
     "execution_count": 86,
     "metadata": {},
     "output_type": "execute_result"
    }
   ],
   "source": [
    "((10 >= 5*2) and (10 <= 5*2))"
   ]
  },
  {
   "cell_type": "markdown",
   "id": "d5df70ac",
   "metadata": {},
   "source": [
    "The fractional_part function divides the numerator by the denominator, and returns just the fractional part (a number between 0 and 1). Complete the body of the function so that it returns the right number.\n",
    "Note: Since division by 0 produces an error, if the denominator is 0, the function should return 0 instead of attempting the division."
   ]
  },
  {
   "cell_type": "code",
   "execution_count": 87,
   "id": "3b718744",
   "metadata": {},
   "outputs": [
    {
     "name": "stdout",
     "output_type": "stream",
     "text": [
      "0.0\n",
      "0.25\n",
      "0.6666666666666667\n",
      "0.5\n",
      "0\n",
      "0.0\n"
     ]
    }
   ],
   "source": [
    "def fractional_part(numerator, denominator):\n",
    "\t# Operate with numerator and denominator to \n",
    "\tif denominator:\n",
    "\t  res = numerator/denominator\n",
    "\telse:\n",
    "\t  res = 0\n",
    "\tres = res - int(res)\n",
    "# keep just the fractional part of the quotient\n",
    "\treturn res\n",
    "\n",
    "print(fractional_part(5, 5)) # Should be 0\n",
    "print(fractional_part(5, 4)) # Should be 0.25\n",
    "print(fractional_part(5, 3)) # Should be 0.66...\n",
    "print(fractional_part(5, 2)) # Should be 0.5\n",
    "print(fractional_part(5, 0)) # Should be 0\n",
    "print(fractional_part(0, 5)) # Should be 0"
   ]
  },
  {
   "cell_type": "markdown",
   "id": "87bb25bb",
   "metadata": {},
   "source": [
    "## While Loops\n",
    "***"
   ]
  },
  {
   "cell_type": "code",
   "execution_count": 88,
   "id": "be43fb7e",
   "metadata": {},
   "outputs": [
    {
     "name": "stdout",
     "output_type": "stream",
     "text": [
      "Not there yet, x=0\n",
      "Not there yet, x=1\n",
      "Not there yet, x=2\n",
      "Not there yet, x=3\n",
      "Not there yet, x=4\n",
      "x=5\n"
     ]
    }
   ],
   "source": [
    "x = 0\n",
    "while x < 5:\n",
    "  print(\"Not there yet, x=\" + str(x))\n",
    "  x = x + 1\n",
    "print(\"x=\" + str(x))"
   ]
  },
  {
   "cell_type": "code",
   "execution_count": 89,
   "id": "ba8bfb45",
   "metadata": {},
   "outputs": [
    {
     "name": "stdout",
     "output_type": "stream",
     "text": [
      "!Attempt 1\n",
      "!Attempt 2\n",
      "!Attempt 3\n",
      "!Attempt 4\n",
      "!Attempt 5\n",
      "Done\n"
     ]
    }
   ],
   "source": [
    "def attempts(n):\n",
    "    x = 1\n",
    "    while x <= n:\n",
    "        print(\"!Attempt \" + str(x))\n",
    "        x += 1\n",
    "    print(\"Done\")\n",
    "    \n",
    "attempts(5)"
   ]
  },
  {
   "cell_type": "code",
   "execution_count": 90,
   "id": "b16536e5",
   "metadata": {},
   "outputs": [
    {
     "name": "stdout",
     "output_type": "stream",
     "text": [
      "3\n",
      "2\n",
      "1\n",
      "Zero!\n"
     ]
    }
   ],
   "source": [
    "def count_down(start_number):\n",
    "    current = start_number\n",
    "    while (current > 0):\n",
    "        print(current)\n",
    "        current -=1\n",
    "    print(\"Zero!\")\n",
    "  \n",
    "count_down(3)        "
   ]
  },
  {
   "cell_type": "code",
   "execution_count": 91,
   "id": "4e6bf806",
   "metadata": {},
   "outputs": [
    {
     "name": "stdout",
     "output_type": "stream",
     "text": [
      "1\n",
      "2\n",
      "3\n",
      "4\n",
      "5\n"
     ]
    }
   ],
   "source": [
    "def print_range(start, end):\n",
    "    # Loop through the numbers from start to end\n",
    "    n = start\n",
    "    while n <= end:\n",
    "        print (n)\n",
    "        n += 1\n",
    "        \n",
    "print_range(1, 5)        # Should print 1 2 3 4 5 (each number on its own line) \n",
    "    "
   ]
  },
  {
   "cell_type": "code",
   "execution_count": null,
   "id": "6cec11a7",
   "metadata": {},
   "outputs": [],
   "source": []
  },
  {
   "cell_type": "markdown",
   "id": "9390f6ad",
   "metadata": {},
   "source": [
    "## Practice Quiz: While Loops\n",
    "***"
   ]
  },
  {
   "cell_type": "code",
   "execution_count": null,
   "id": "60201ac5",
   "metadata": {},
   "outputs": [],
   "source": []
  },
  {
   "cell_type": "markdown",
   "id": "e51803ba",
   "metadata": {},
   "source": [
    "Fill in the blanks to make the print_prime_factors function print all the prime factors of a number. A prime factor is a number that is prime and divides another without a remainder."
   ]
  },
  {
   "cell_type": "code",
   "execution_count": 92,
   "id": "cd6ef781",
   "metadata": {},
   "outputs": [
    {
     "name": "stdout",
     "output_type": "stream",
     "text": [
      "2\n",
      "2\n",
      "5\n",
      "5\n"
     ]
    },
    {
     "data": {
      "text/plain": [
       "'Done'"
      ]
     },
     "execution_count": 92,
     "metadata": {},
     "output_type": "execute_result"
    }
   ],
   "source": [
    "def print_prime_factors(number):\n",
    "  # Start with two, which is the first prime\n",
    "  factor = 2\n",
    "  # Keep going until the factor is larger than the number\n",
    "  while factor <= number:\n",
    "    # Check if factor is a divisor of number\n",
    "    if number % factor == 0:\n",
    "      # If it is, print it and divide the original number\n",
    "      print(factor)\n",
    "      number = number / factor\n",
    "    else:\n",
    "      # If it's not, increment the factor by one\n",
    "      factor += 1\n",
    "  return \"Done\"\n",
    "\n",
    "print_prime_factors(100)\n",
    "# Should print 2,2,5,5\n",
    "# DO NOT DELETE THIS COMMENT"
   ]
  },
  {
   "cell_type": "markdown",
   "id": "11a53c5d",
   "metadata": {},
   "source": [
    "The following code can lead to an infinite loop. Fix the code so that it can finish successfully for all numbers.\n",
    "\n",
    "Note: Try running your function with the number 0 as the input, and see what you get!"
   ]
  },
  {
   "cell_type": "code",
   "execution_count": 93,
   "id": "37450bdd",
   "metadata": {},
   "outputs": [
    {
     "name": "stdout",
     "output_type": "stream",
     "text": [
      "False\n",
      "True\n",
      "True\n",
      "False\n"
     ]
    }
   ],
   "source": [
    "def is_power_of_two(n):\n",
    "  # Check if the number can be divided by two without a remainder\n",
    "  while n % 2 == 0:\n",
    "    n = n / 2\n",
    "    if n == 0 or n == 9:\n",
    "        return False\n",
    "\n",
    "  # If after dividing by two the number is 1, it's a power of two\n",
    "  if n == 1:\n",
    "    return True\n",
    "  return False\n",
    "  \n",
    "\n",
    "print(is_power_of_two(0)) # Should be False\n",
    "print(is_power_of_two(1)) # Should be True\n",
    "print(is_power_of_two(8)) # Should be True\n",
    "print(is_power_of_two(9)) # Should be False"
   ]
  },
  {
   "cell_type": "markdown",
   "id": "cc4c3273",
   "metadata": {},
   "source": [
    "Fill in the empty function so that it returns the sum of all the divisors of a number, without including it. A divisor is a number that divides into another without a remainder."
   ]
  },
  {
   "cell_type": "code",
   "execution_count": 94,
   "id": "e5b4c74c",
   "metadata": {},
   "outputs": [
    {
     "name": "stdout",
     "output_type": "stream",
     "text": [
      "0\n",
      "1\n",
      "55\n",
      "114\n"
     ]
    }
   ],
   "source": [
    "def sum_divisors(n):\n",
    "    sum = 0\n",
    "    z = 1\n",
    "\n",
    "    while n > z:\n",
    "        if n % z == 0:\n",
    "            sum = sum + z\n",
    "            z = z + 1\n",
    "        else:\n",
    "            z = z + 1\n",
    "    \n",
    "  # Return the sum of all divisors of n, not including n\n",
    "    return sum\n",
    "\n",
    "print(sum_divisors(0))\n",
    "# 0\n",
    "print(sum_divisors(3)) # Should sum of 1\n",
    "# 1\n",
    "print(sum_divisors(36)) # Should sum of 1+2+3+4+6+9+12+18\n",
    "# 55\n",
    "print(sum_divisors(102)) # Should be sum of 2+3+6+17+34+51\n",
    "# 114"
   ]
  },
  {
   "cell_type": "markdown",
   "id": "43dd6b7a",
   "metadata": {},
   "source": [
    "The multiplication_table function prints the results of a number passed to it multiplied by 1 through 5. An additional requirement is that the result is not to exceed 25, which is done with the break statement. Fill in the blanks to complete the function to satisfy these conditions."
   ]
  },
  {
   "cell_type": "code",
   "execution_count": 95,
   "id": "b7f19fc4",
   "metadata": {},
   "outputs": [
    {
     "name": "stdout",
     "output_type": "stream",
     "text": [
      "3x1=3\n",
      "3x2=6\n",
      "3x3=9\n",
      "3x4=12\n",
      "3x5=15\n",
      "5x1=5\n",
      "5x2=10\n",
      "5x3=15\n",
      "5x4=20\n",
      "5x5=25\n",
      "8x1=8\n",
      "8x2=16\n",
      "8x3=24\n"
     ]
    }
   ],
   "source": [
    "def multiplication_table(number):\n",
    "\t# Initialize the starting point of the multiplication table\n",
    "\tmultiplier = 1\n",
    "\t# Only want to loop through 5\n",
    "\twhile multiplier <= 5:\n",
    "\t\tresult = multiplier*number \n",
    "\t\t# What is the additional condition to exit out of the loop?\n",
    "\t\tif result > 25  :\n",
    "\t\t\tbreak\n",
    "\t\tprint(str(number) + \"x\" + str(multiplier) + \"=\" + str(result))\n",
    "\t\t# Increment the variable for the loop\n",
    "\t\tmultiplier += 1\n",
    "\n",
    "multiplication_table(3) \n",
    "# Should print: 3x1=3 3x2=6 3x3=9 3x4=12 3x5=15\n",
    "\n",
    "multiplication_table(5) \n",
    "# Should print: 5x1=5 5x2=10 5x3=15 5x4=20 5x5=25\n",
    "\n",
    "multiplication_table(8)\t\n",
    "# Should print: 8x1=8 8x2=16 8x3=24"
   ]
  },
  {
   "cell_type": "code",
   "execution_count": null,
   "id": "f8672bd6",
   "metadata": {},
   "outputs": [],
   "source": []
  },
  {
   "cell_type": "markdown",
   "id": "146f4093",
   "metadata": {},
   "source": [
    "## For Loops\n",
    "***"
   ]
  },
  {
   "cell_type": "code",
   "execution_count": 96,
   "id": "0d9d58c6",
   "metadata": {},
   "outputs": [
    {
     "name": "stdout",
     "output_type": "stream",
     "text": [
      "285\n"
     ]
    }
   ],
   "source": [
    "def square(n):\n",
    "    return n*n\n",
    "\n",
    "def sum_squares(x):\n",
    "    sum = 0\n",
    "    for n in range(x):\n",
    "        sum += square(n)\n",
    "    return sum\n",
    "\n",
    "print(sum_squares(10)) # Should be 285"
   ]
  },
  {
   "cell_type": "code",
   "execution_count": 97,
   "id": "9ab0cd4d",
   "metadata": {},
   "outputs": [
    {
     "name": "stdout",
     "output_type": "stream",
     "text": [
      "24\n",
      "120\n"
     ]
    }
   ],
   "source": [
    "def factorial(n):\n",
    "    result = 1\n",
    "    for i in range(1, n+1):\n",
    "        result *= i\n",
    "    return result\n",
    "\n",
    "print(factorial(4)) # should return 24\n",
    "print(factorial(5)) # should return 120"
   ]
  },
  {
   "cell_type": "markdown",
   "id": "1d95617c",
   "metadata": {},
   "source": [
    "## Nested for Loops\n",
    "***"
   ]
  },
  {
   "cell_type": "code",
   "execution_count": 98,
   "id": "d87dc71a",
   "metadata": {},
   "outputs": [
    {
     "name": "stdout",
     "output_type": "stream",
     "text": [
      "3\n",
      "4\n",
      "5\n",
      "6\n",
      "7\n",
      "8\n",
      "9\n",
      "10\n",
      "11\n",
      "12\n",
      "13\n",
      "14\n",
      "15\n"
     ]
    }
   ],
   "source": [
    "# Print all numbers between 3 and 15 included\n",
    "\n",
    "for number in range(3, 16):\n",
    "    print(number)\n"
   ]
  },
  {
   "cell_type": "code",
   "execution_count": 99,
   "id": "c8431bd8",
   "metadata": {},
   "outputs": [
    {
     "name": "stdout",
     "output_type": "stream",
     "text": [
      "2\n",
      "2\n",
      "4\n",
      "3\n",
      "3\n",
      "3\n",
      "5\n",
      "5\n",
      "3\n",
      "3\n",
      "1\n",
      "5\n",
      "2\n",
      "2\n",
      "2\n",
      "5\n",
      "5\n",
      "3\n"
     ]
    }
   ],
   "source": [
    "# Write a program that rolls a die until a 6 is rolled. Hint: use `while` and the `random` library\n",
    "\n",
    "import random\n",
    "while True:\n",
    "    roll = random.randint(1, 6)\n",
    "    if roll == 6:\n",
    "        break\n",
    "    print(roll)\n",
    "\n",
    "\n"
   ]
  },
  {
   "cell_type": "markdown",
   "id": "4fa3e496",
   "metadata": {},
   "source": [
    "The validate_users function is used by the system to check if a list of users is valid or invalid. A valid user is one that is at least 3 characters long. For example, ['taylor', 'luisa', 'jamaal'] are all valid users. When calling it like in this example, something is not right. Can you figure out what to fix?"
   ]
  },
  {
   "cell_type": "code",
   "execution_count": 100,
   "id": "04932fe1",
   "metadata": {},
   "outputs": [
    {
     "ename": "NameError",
     "evalue": "name 'is_valid' is not defined",
     "output_type": "error",
     "traceback": [
      "\u001b[0;31m---------------------------------------------------------------------------\u001b[0m",
      "\u001b[0;31mNameError\u001b[0m                                 Traceback (most recent call last)",
      "\u001b[0;32m/tmp/ipykernel_9036/904739226.py\u001b[0m in \u001b[0;36m<module>\u001b[0;34m\u001b[0m\n\u001b[1;32m      6\u001b[0m             \u001b[0mprint\u001b[0m\u001b[0;34m(\u001b[0m\u001b[0muser\u001b[0m \u001b[0;34m+\u001b[0m \u001b[0;34m\" is invalid\"\u001b[0m\u001b[0;34m)\u001b[0m\u001b[0;34m\u001b[0m\u001b[0;34m\u001b[0m\u001b[0m\n\u001b[1;32m      7\u001b[0m \u001b[0;34m\u001b[0m\u001b[0m\n\u001b[0;32m----> 8\u001b[0;31m \u001b[0mvalidate_users\u001b[0m\u001b[0;34m(\u001b[0m\u001b[0;34m[\u001b[0m\u001b[0;34m\"purplecat\"\u001b[0m\u001b[0;34m]\u001b[0m\u001b[0;34m)\u001b[0m\u001b[0;34m\u001b[0m\u001b[0;34m\u001b[0m\u001b[0m\n\u001b[0m",
      "\u001b[0;32m/tmp/ipykernel_9036/904739226.py\u001b[0m in \u001b[0;36mvalidate_users\u001b[0;34m(users)\u001b[0m\n\u001b[1;32m      1\u001b[0m \u001b[0;32mdef\u001b[0m \u001b[0mvalidate_users\u001b[0m\u001b[0;34m(\u001b[0m\u001b[0musers\u001b[0m\u001b[0;34m)\u001b[0m\u001b[0;34m:\u001b[0m\u001b[0;34m\u001b[0m\u001b[0;34m\u001b[0m\u001b[0m\n\u001b[1;32m      2\u001b[0m     \u001b[0;32mfor\u001b[0m \u001b[0muser\u001b[0m \u001b[0;32min\u001b[0m \u001b[0musers\u001b[0m\u001b[0;34m:\u001b[0m\u001b[0;34m\u001b[0m\u001b[0;34m\u001b[0m\u001b[0m\n\u001b[0;32m----> 3\u001b[0;31m         \u001b[0;32mif\u001b[0m \u001b[0mis_valid\u001b[0m\u001b[0;34m(\u001b[0m\u001b[0muser\u001b[0m\u001b[0;34m)\u001b[0m\u001b[0;34m:\u001b[0m\u001b[0;34m\u001b[0m\u001b[0;34m\u001b[0m\u001b[0m\n\u001b[0m\u001b[1;32m      4\u001b[0m             \u001b[0mprint\u001b[0m\u001b[0;34m(\u001b[0m\u001b[0muser\u001b[0m \u001b[0;34m+\u001b[0m \u001b[0;34m\" is valid\"\u001b[0m\u001b[0;34m)\u001b[0m\u001b[0;34m\u001b[0m\u001b[0;34m\u001b[0m\u001b[0m\n\u001b[1;32m      5\u001b[0m         \u001b[0;32melse\u001b[0m\u001b[0;34m:\u001b[0m\u001b[0;34m\u001b[0m\u001b[0;34m\u001b[0m\u001b[0m\n",
      "\u001b[0;31mNameError\u001b[0m: name 'is_valid' is not defined"
     ]
    }
   ],
   "source": [
    "def validate_users(users):\n",
    "    for user in users:\n",
    "        if is_valid(user):\n",
    "            print(user + \" is valid\")\n",
    "        else:\n",
    "            print(user + \" is invalid\")\n",
    "\n",
    "validate_users([\"purplecat\"])"
   ]
  },
  {
   "cell_type": "markdown",
   "id": "9d661e1b",
   "metadata": {},
   "source": [
    "### Recursion\n",
    "***"
   ]
  },
  {
   "cell_type": "markdown",
   "id": "3386f454",
   "metadata": {},
   "source": [
    "The function sum_positive_numbers should return the sum of all positive numbers between the number n received and 1. For example, when n is 3 it should return 1+2+3=6, and when n is 5 it should return 1+2+3+4+5=15. Fill in the gaps to make this work:"
   ]
  },
  {
   "cell_type": "code",
   "execution_count": null,
   "id": "ec38ef18",
   "metadata": {},
   "outputs": [
    {
     "ename": "RecursionError",
     "evalue": "maximum recursion depth exceeded in comparison",
     "output_type": "error",
     "traceback": [
      "\u001b[0;31m---------------------------------------------------------------------------\u001b[0m",
      "\u001b[0;31mRecursionError\u001b[0m                            Traceback (most recent call last)",
      "\u001b[0;32m/tmp/ipykernel_16973/495516834.py\u001b[0m in \u001b[0;36m<module>\u001b[0;34m\u001b[0m\n\u001b[1;32m      8\u001b[0m     \u001b[0;32mreturn\u001b[0m \u001b[0m___\u001b[0m \u001b[0;34m+\u001b[0m \u001b[0msum_positive_numbers\u001b[0m\u001b[0;34m(\u001b[0m\u001b[0m___\u001b[0m\u001b[0;34m)\u001b[0m\u001b[0;34m\u001b[0m\u001b[0;34m\u001b[0m\u001b[0m\n\u001b[1;32m      9\u001b[0m \u001b[0;34m\u001b[0m\u001b[0m\n\u001b[0;32m---> 10\u001b[0;31m \u001b[0mprint\u001b[0m\u001b[0;34m(\u001b[0m\u001b[0msum_positive_numbers\u001b[0m\u001b[0;34m(\u001b[0m\u001b[0;36m3\u001b[0m\u001b[0;34m)\u001b[0m\u001b[0;34m)\u001b[0m \u001b[0;31m# Should be 6\u001b[0m\u001b[0;34m\u001b[0m\u001b[0;34m\u001b[0m\u001b[0m\n\u001b[0m\u001b[1;32m     11\u001b[0m \u001b[0mprint\u001b[0m\u001b[0;34m(\u001b[0m\u001b[0msum_positive_numbers\u001b[0m\u001b[0;34m(\u001b[0m\u001b[0;36m5\u001b[0m\u001b[0;34m)\u001b[0m\u001b[0;34m)\u001b[0m \u001b[0;31m# Should be 15\u001b[0m\u001b[0;34m\u001b[0m\u001b[0;34m\u001b[0m\u001b[0m\n",
      "\u001b[0;32m/tmp/ipykernel_16973/495516834.py\u001b[0m in \u001b[0;36msum_positive_numbers\u001b[0;34m(n)\u001b[0m\n\u001b[1;32m      6\u001b[0m     \u001b[0;31m# The recursive case is adding this number to\u001b[0m\u001b[0;34m\u001b[0m\u001b[0;34m\u001b[0m\u001b[0;34m\u001b[0m\u001b[0m\n\u001b[1;32m      7\u001b[0m     \u001b[0;31m# the sum of the numbers smaller than this one.\u001b[0m\u001b[0;34m\u001b[0m\u001b[0;34m\u001b[0m\u001b[0;34m\u001b[0m\u001b[0m\n\u001b[0;32m----> 8\u001b[0;31m     \u001b[0;32mreturn\u001b[0m \u001b[0m___\u001b[0m \u001b[0;34m+\u001b[0m \u001b[0msum_positive_numbers\u001b[0m\u001b[0;34m(\u001b[0m\u001b[0m___\u001b[0m\u001b[0;34m)\u001b[0m\u001b[0;34m\u001b[0m\u001b[0;34m\u001b[0m\u001b[0m\n\u001b[0m\u001b[1;32m      9\u001b[0m \u001b[0;34m\u001b[0m\u001b[0m\n\u001b[1;32m     10\u001b[0m \u001b[0mprint\u001b[0m\u001b[0;34m(\u001b[0m\u001b[0msum_positive_numbers\u001b[0m\u001b[0;34m(\u001b[0m\u001b[0;36m3\u001b[0m\u001b[0;34m)\u001b[0m\u001b[0;34m)\u001b[0m \u001b[0;31m# Should be 6\u001b[0m\u001b[0;34m\u001b[0m\u001b[0;34m\u001b[0m\u001b[0m\n",
      "... last 1 frames repeated, from the frame below ...\n",
      "\u001b[0;32m/tmp/ipykernel_16973/495516834.py\u001b[0m in \u001b[0;36msum_positive_numbers\u001b[0;34m(n)\u001b[0m\n\u001b[1;32m      6\u001b[0m     \u001b[0;31m# The recursive case is adding this number to\u001b[0m\u001b[0;34m\u001b[0m\u001b[0;34m\u001b[0m\u001b[0;34m\u001b[0m\u001b[0m\n\u001b[1;32m      7\u001b[0m     \u001b[0;31m# the sum of the numbers smaller than this one.\u001b[0m\u001b[0;34m\u001b[0m\u001b[0;34m\u001b[0m\u001b[0;34m\u001b[0m\u001b[0m\n\u001b[0;32m----> 8\u001b[0;31m     \u001b[0;32mreturn\u001b[0m \u001b[0m___\u001b[0m \u001b[0;34m+\u001b[0m \u001b[0msum_positive_numbers\u001b[0m\u001b[0;34m(\u001b[0m\u001b[0m___\u001b[0m\u001b[0;34m)\u001b[0m\u001b[0;34m\u001b[0m\u001b[0;34m\u001b[0m\u001b[0m\n\u001b[0m\u001b[1;32m      9\u001b[0m \u001b[0;34m\u001b[0m\u001b[0m\n\u001b[1;32m     10\u001b[0m \u001b[0mprint\u001b[0m\u001b[0;34m(\u001b[0m\u001b[0msum_positive_numbers\u001b[0m\u001b[0;34m(\u001b[0m\u001b[0;36m3\u001b[0m\u001b[0;34m)\u001b[0m\u001b[0;34m)\u001b[0m \u001b[0;31m# Should be 6\u001b[0m\u001b[0;34m\u001b[0m\u001b[0;34m\u001b[0m\u001b[0m\n",
      "\u001b[0;31mRecursionError\u001b[0m: maximum recursion depth exceeded in comparison"
     ]
    }
   ],
   "source": [
    "def sum_positive_numbers(n):\n",
    "    # The base case is n being smaller than 1\n",
    "    if n < 1:\n",
    "        return ___\n",
    "\n",
    "    # The recursive case is adding this number to \n",
    "    # the sum of the numbers smaller than this one.\n",
    "    return ___ + sum_positive_numbers(___)\n",
    "\n",
    "print(sum_positive_numbers(3)) # Should be 6\n",
    "print(sum_positive_numbers(5)) # Should be 15"
   ]
  },
  {
   "cell_type": "markdown",
   "id": "cdbce5f2",
   "metadata": {},
   "source": [
    "### Practice Quiz: Recursion\n",
    "***"
   ]
  },
  {
   "cell_type": "markdown",
   "id": "ef622350",
   "metadata": {},
   "source": []
  },
  {
   "cell_type": "markdown",
   "id": "cc939ae7",
   "metadata": {},
   "source": [
    "Fill in the blanks to make the is_power_of function return whether the number is a power of the given base. Note: base is assumed to be a positive number. Tip: for functions that return a boolean value, you can return the result of a comparison."
   ]
  },
  {
   "cell_type": "code",
   "execution_count": null,
   "id": "86457194",
   "metadata": {},
   "outputs": [],
   "source": [
    "def is_power_of(number, base):\n",
    "      # Base case: when number is smaller than base.\n",
    "    if number < base:\n",
    "    # If number is equal to 1, it's a power (base**0).\n",
    "        return number == 1\n",
    "\n",
    "  # Recursive case: keep dividing number by base.\n",
    "    return is_power_of(number//base, base)"
   ]
  },
  {
   "cell_type": "markdown",
   "id": "60333d1e",
   "metadata": {},
   "source": [
    "The count_users function recursively counts the amount of users that belong to a group in the company system, by going through each of the members of a group and if one of them is a group, recursively calling the function and counting the members. But it has a bug! Can you spot the problem and fix it?"
   ]
  },
  {
   "cell_type": "code",
   "execution_count": null,
   "id": "98e9070c",
   "metadata": {},
   "outputs": [],
   "source": [
    "def count_users(group):\n",
    "  count = 0\n",
    "  for member in get_members(group):\n",
    "    if is_group(member):\n",
    "      count += count_users(member)\n",
    "    else:\n",
    "      count += 1\n",
    "  return count\n",
    "\n",
    "print(count_users(\"sales\")) # Should be 3\n",
    "print(count_users(\"engineering\")) # Should be 8\n",
    "print(count_users(\"everyone\")) # Should be 18"
   ]
  },
  {
   "cell_type": "markdown",
   "id": "94f71c14",
   "metadata": {},
   "source": [
    "Pregunta 5\n",
    "Implement the sum_positive_numbers function, as a recursive function that returns the sum of all positive numbers between the number n received and 1. For example, when n is 3 it should return 1+2+3=6, and when n is 5 it should return 1+2+3+4+5=15."
   ]
  },
  {
   "cell_type": "code",
   "execution_count": null,
   "id": "7e494efc",
   "metadata": {},
   "outputs": [],
   "source": [
    "def sum_positive_numbers(n):\n",
    "    if n == 0:\n",
    "        return n\n",
    "    return n + sum_positive_numbers(n-1)\n",
    "\n",
    "print(sum_positive_numbers(3)) # Should be 6\n",
    "print(sum_positive_numbers(5)) # Should be 15"
   ]
  },
  {
   "cell_type": "markdown",
   "id": "ee3e8e77",
   "metadata": {},
   "source": [
    "### Loops Wrap Up\n",
    "***"
   ]
  },
  {
   "cell_type": "code",
   "execution_count": 101,
   "id": "17d66a0e",
   "metadata": {},
   "outputs": [
    {
     "name": "stdout",
     "output_type": "stream",
     "text": [
      "1\n",
      "4\n",
      "7\n"
     ]
    }
   ],
   "source": [
    "for x in range(1, 10, 3):\n",
    "    print(x)"
   ]
  },
  {
   "cell_type": "code",
   "execution_count": 102,
   "id": "4406fa1e",
   "metadata": {},
   "outputs": [
    {
     "name": "stdout",
     "output_type": "stream",
     "text": [
      "0\n",
      "0\n",
      "1\n",
      "0\n",
      "1\n",
      "2\n",
      "0\n",
      "1\n",
      "2\n",
      "3\n",
      "0\n",
      "1\n",
      "2\n",
      "3\n",
      "4\n",
      "0\n",
      "1\n",
      "2\n",
      "3\n",
      "4\n",
      "5\n",
      "0\n",
      "1\n",
      "2\n",
      "3\n",
      "4\n",
      "5\n",
      "6\n",
      "0\n",
      "1\n",
      "2\n",
      "3\n",
      "4\n",
      "5\n",
      "6\n",
      "7\n",
      "0\n",
      "1\n",
      "2\n",
      "3\n",
      "4\n",
      "5\n",
      "6\n",
      "7\n",
      "8\n"
     ]
    }
   ],
   "source": [
    "for x in range(10):\n",
    "    for y in range(x):\n",
    "        print(y)"
   ]
  },
  {
   "cell_type": "code",
   "execution_count": 105,
   "id": "1408d754",
   "metadata": {},
   "outputs": [
    {
     "name": "stdout",
     "output_type": "stream",
     "text": [
      "Possible option:yes\n",
      "Possible option:no\n",
      "Possible option:maybe\n"
     ]
    }
   ],
   "source": [
    "def votes(params):\n",
    "    \tfor vote in params:\n",
    "\t        print(\"Possible option:\" + vote)\n",
    "         \n",
    "votes(['yes', 'no', 'maybe'])"
   ]
  },
  {
   "cell_type": "code",
   "execution_count": 1,
   "id": "fc854f41",
   "metadata": {},
   "outputs": [
    {
     "name": "stdout",
     "output_type": "stream",
     "text": [
      "FunEvent(tags=['google', 'ml', 'bootcamp'], year=2022)\n"
     ]
    }
   ],
   "source": [
    "class FunEvent:\n",
    "    def __init__(self, tags, year):\n",
    "        self.tags = tags\n",
    "        self.year = year\n",
    "    \n",
    "    def __str__(self):\n",
    "        return f\"FunEvent(tags={self.tags}, year={self.year})\"\n",
    "\n",
    "tags = [\"google\", \"ml\"]\n",
    "year = 2022\n",
    "bootcamp = FunEvent(tags, year)\n",
    "tags.append(\"bootcamp\")\n",
    "year = 2023\n",
    "print(bootcamp)"
   ]
  },
  {
   "cell_type": "code",
   "execution_count": 2,
   "id": "2a400c9c",
   "metadata": {},
   "outputs": [
    {
     "ename": "SyntaxError",
     "evalue": "invalid syntax (2393501053.py, line 2)",
     "output_type": "error",
     "traceback": [
      "\u001b[0;36m  File \u001b[0;32m\"/tmp/ipykernel_18662/2393501053.py\"\u001b[0;36m, line \u001b[0;32m2\u001b[0m\n\u001b[0;31m    return sum(x**2 if x > 0 for x in nums)\u001b[0m\n\u001b[0m                             ^\u001b[0m\n\u001b[0;31mSyntaxError\u001b[0m\u001b[0;31m:\u001b[0m invalid syntax\n"
     ]
    }
   ],
   "source": [
    "def sqsum1():\n",
    "    return sum(x**2 if x > 0 for x in nums)\n",
    "\n",
    "def sqsum2():\n",
    "  \treturn sum(x^2 for x in nums if x > 0)\n",
    "\n",
    "def sqsum3():\n",
    "  \treturn sum(for x in nums if x > 0 then x^2)\n",
    "\n",
    "def sqsum4():\n",
    "  \treturn sum(x**2 for x in nums if x > 0)\n",
    "\n",
    "def sqsum5():\n",
    "  \treturn sum(x^2 if x > 0 for x in nums)"
   ]
  },
  {
   "cell_type": "code",
   "execution_count": 4,
   "id": "ba16ce90",
   "metadata": {},
   "outputs": [],
   "source": [
    "def parse1():\n",
    "    for line in open(\"log.txt\"):\n",
    "        print(line.split(\"[\")[1].split(\"]\")[0])\n",
    "\n",
    "def parse2():\n",
    "    for line in open(\"log.txt\", \"r\"):\n",
    "        print(line.split()[3].strip(\"[]\"))\n",
    "\n",
    "def parse3():\n",
    "    for line in open(\"log.txt\", \"r\"):\n",
    "        print(\" \".join(line.split(\"[\" or \"]\")[3:5]))\n",
    "\n",
    "def parse4():\n",
    "    for line in open(\"log.txt\", \"rw\"):\n",
    "        print(\" \".join(line.split()[3:5]).strip(\"[]\"))\n",
    "  \n",
    "def parse5():\n",
    "    for line in open(\"log.txt\"):\n",
    "        print(re.split(\"\\[|\\]\", line)[1])"
   ]
  },
  {
   "cell_type": "code",
   "execution_count": 5,
   "id": "4942852f",
   "metadata": {},
   "outputs": [
    {
     "name": "stdout",
     "output_type": "stream",
     "text": [
      "01/Mar/2022:13:05:05 +0900\n",
      "01/Mar/2022:13:05:10 +0900\n"
     ]
    }
   ],
   "source": [
    "parse1()"
   ]
  },
  {
   "cell_type": "code",
   "execution_count": 6,
   "id": "1d78f36b",
   "metadata": {},
   "outputs": [
    {
     "name": "stdout",
     "output_type": "stream",
     "text": [
      "01/Mar/2022:13:05:05\n",
      "01/Mar/2022:13:05:10\n"
     ]
    }
   ],
   "source": [
    "parse2()"
   ]
  },
  {
   "cell_type": "code",
   "execution_count": 10,
   "id": "c409ec04",
   "metadata": {},
   "outputs": [
    {
     "name": "stdout",
     "output_type": "stream",
     "text": [
      "\n",
      "\n"
     ]
    }
   ],
   "source": [
    "parse3()"
   ]
  },
  {
   "cell_type": "code",
   "execution_count": 11,
   "id": "95878587",
   "metadata": {},
   "outputs": [
    {
     "ename": "ValueError",
     "evalue": "must have exactly one of create/read/write/append mode",
     "output_type": "error",
     "traceback": [
      "\u001b[0;31m---------------------------------------------------------------------------\u001b[0m",
      "\u001b[0;31mValueError\u001b[0m                                Traceback (most recent call last)",
      "\u001b[0;32m/tmp/ipykernel_18662/2395296517.py\u001b[0m in \u001b[0;36m<module>\u001b[0;34m\u001b[0m\n\u001b[0;32m----> 1\u001b[0;31m \u001b[0mparse4\u001b[0m\u001b[0;34m(\u001b[0m\u001b[0;34m)\u001b[0m\u001b[0;34m\u001b[0m\u001b[0;34m\u001b[0m\u001b[0m\n\u001b[0m",
      "\u001b[0;32m/tmp/ipykernel_18662/3809785721.py\u001b[0m in \u001b[0;36mparse4\u001b[0;34m()\u001b[0m\n\u001b[1;32m     12\u001b[0m \u001b[0;34m\u001b[0m\u001b[0m\n\u001b[1;32m     13\u001b[0m \u001b[0;32mdef\u001b[0m \u001b[0mparse4\u001b[0m\u001b[0;34m(\u001b[0m\u001b[0;34m)\u001b[0m\u001b[0;34m:\u001b[0m\u001b[0;34m\u001b[0m\u001b[0;34m\u001b[0m\u001b[0m\n\u001b[0;32m---> 14\u001b[0;31m     \u001b[0;32mfor\u001b[0m \u001b[0mline\u001b[0m \u001b[0;32min\u001b[0m \u001b[0mopen\u001b[0m\u001b[0;34m(\u001b[0m\u001b[0;34m\"log.txt\"\u001b[0m\u001b[0;34m,\u001b[0m \u001b[0;34m\"rw\"\u001b[0m\u001b[0;34m)\u001b[0m\u001b[0;34m:\u001b[0m\u001b[0;34m\u001b[0m\u001b[0;34m\u001b[0m\u001b[0m\n\u001b[0m\u001b[1;32m     15\u001b[0m         \u001b[0mprint\u001b[0m\u001b[0;34m(\u001b[0m\u001b[0;34m\" \"\u001b[0m\u001b[0;34m.\u001b[0m\u001b[0mjoin\u001b[0m\u001b[0;34m(\u001b[0m\u001b[0mline\u001b[0m\u001b[0;34m.\u001b[0m\u001b[0msplit\u001b[0m\u001b[0;34m(\u001b[0m\u001b[0;34m)\u001b[0m\u001b[0;34m[\u001b[0m\u001b[0;36m3\u001b[0m\u001b[0;34m:\u001b[0m\u001b[0;36m5\u001b[0m\u001b[0;34m]\u001b[0m\u001b[0;34m)\u001b[0m\u001b[0;34m.\u001b[0m\u001b[0mstrip\u001b[0m\u001b[0;34m(\u001b[0m\u001b[0;34m\"[]\"\u001b[0m\u001b[0;34m)\u001b[0m\u001b[0;34m)\u001b[0m\u001b[0;34m\u001b[0m\u001b[0;34m\u001b[0m\u001b[0m\n\u001b[1;32m     16\u001b[0m \u001b[0;34m\u001b[0m\u001b[0m\n",
      "\u001b[0;31mValueError\u001b[0m: must have exactly one of create/read/write/append mode"
     ]
    }
   ],
   "source": [
    "parse4()"
   ]
  },
  {
   "cell_type": "code",
   "execution_count": 9,
   "id": "96e1aba3",
   "metadata": {},
   "outputs": [
    {
     "data": {
      "application/javascript": "\n        if (window._pyforest_update_imports_cell) { window._pyforest_update_imports_cell('import re'); }\n    ",
      "text/plain": [
       "<IPython.core.display.Javascript object>"
      ]
     },
     "metadata": {},
     "output_type": "display_data"
    },
    {
     "name": "stdout",
     "output_type": "stream",
     "text": [
      "01/Mar/2022:13:05:05 +0900\n"
     ]
    },
    {
     "data": {
      "application/javascript": "\n        if (window._pyforest_update_imports_cell) { window._pyforest_update_imports_cell('import re'); }\n    ",
      "text/plain": [
       "<IPython.core.display.Javascript object>"
      ]
     },
     "metadata": {},
     "output_type": "display_data"
    },
    {
     "name": "stdout",
     "output_type": "stream",
     "text": [
      "01/Mar/2022:13:05:10 +0900\n"
     ]
    }
   ],
   "source": [
    "parse5()"
   ]
  },
  {
   "cell_type": "code",
   "execution_count": 12,
   "id": "f450d68f",
   "metadata": {},
   "outputs": [],
   "source": [
    "class BaseLayer:\n",
    "    def __init__(self, name=\"\"):\n",
    "        self.name = name\n",
    "\n",
    "    def __repr__(self):\n",
    "        return f\"{self.name}Layer\"\n",
    "\n",
    "class ActivationLayer(BaseLayer):\n",
    "    def __init__(self, size):\n",
    "        super().__init__(\"Activation\")\n",
    "        self.size = size\n",
    "\n",
    "class FCLayer(BaseLayer):\n",
    "    def __init__(self, size):\n",
    "        super().__init__(\"FullyConnected\")\n",
    "        self.size = size"
   ]
  },
  {
   "cell_type": "code",
   "execution_count": 13,
   "id": "4f25ab15",
   "metadata": {},
   "outputs": [],
   "source": [
    "def f1(list_of_list):\n",
    "    result = []\n",
    "    for inner_list in list_of_list:\n",
    "        for x in inner_list:\n",
    "            if x not in result:\n",
    "                result.append(x)\n",
    "    return result\n",
    "\n",
    "def f2(list_of_list):\n",
    "    flat_list = []\n",
    "    for inner_list in list_of_list:\n",
    "        flat_list.extend(inner_list)\n",
    "    return [\n",
    "        x for i, x in enumerate(flat_list)\n",
    "        if flat_list.index(x) == i]\n",
    "\n",
    "def f3(list_of_list):\n",
    "    result = []\n",
    "    seen = set()\n",
    "    for inner_list in list_of_list:\n",
    "        for x in inner_list:\n",
    "            if x not in seen:\n",
    "                result.append(x)\n",
    "                seen.add(x)\n",
    "    return result"
   ]
  },
  {
   "cell_type": "code",
   "execution_count": 15,
   "id": "1c5fb020",
   "metadata": {},
   "outputs": [],
   "source": [
    "def tail(filename, n=10):\n",
    "    with open(filename, \"r\") as f:\n",
    "    \tlines = f.readlines()\n",
    "    for line in f:\n",
    "        print(line)"
   ]
  },
  {
   "cell_type": "code",
   "execution_count": null,
   "id": "83a987fc",
   "metadata": {},
   "outputs": [],
   "source": []
  }
 ],
 "metadata": {
  "interpreter": {
   "hash": "31f2aee4e71d21fbe5cf8b01ff0e069b9275f58929596ceb00d14d90e3e16cd6"
  },
  "kernelspec": {
   "display_name": "Python 3.8.10 64-bit",
   "language": "python",
   "name": "python3"
  },
  "language_info": {
   "codemirror_mode": {
    "name": "ipython",
    "version": 3
   },
   "file_extension": ".py",
   "mimetype": "text/x-python",
   "name": "python",
   "nbconvert_exporter": "python",
   "pygments_lexer": "ipython3",
   "version": "3.8.10"
  }
 },
 "nbformat": 4,
 "nbformat_minor": 5
}
